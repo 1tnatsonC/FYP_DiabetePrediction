{
 "cells": [
  {
   "cell_type": "code",
   "execution_count": 4,
   "metadata": {
    "ExecuteTime": {
     "end_time": "2024-08-31T13:40:07.304728Z",
     "start_time": "2024-08-31T13:40:07.298844Z"
    }
   },
   "outputs": [
    {
     "name": "stdout",
     "output_type": "stream",
     "text": [
      "Hello world\n"
     ]
    }
   ],
   "source": [
    "print(\"Hello world\")"
   ]
  },
  {
   "cell_type": "markdown",
   "metadata": {
    "id": "CA-7YWp2AF55"
   },
   "source": [
    "# Head\n",
    "## Heading\n",
    "### subsection\n",
    "Regular text\n",
    "**Bold**\n",
    "*italic*\n",
    "- bullet 1\n",
    "- bullet 2\n",
    "ai, big data"
   ]
  },
  {
   "cell_type": "markdown",
   "metadata": {
    "id": "8MucjwBR-VQv"
   },
   "source": [
    "Now let's try the example we mentioned during the lecture. \n",
    "\n",
    "The training data contain some example measurements of the profit gained by opening an outlet in the cities with the population ranging between 30,000 and 100,000. The y-values are the profit measured in USD, and the x-values are the populations of the city. Each city population and profit tuple constitutes one training example in training dataset.\n",
    "\n",
    "x = [6.4862, 5.5277, 8.5186, 7.0032]\n",
    "\n",
    "y = [6.5987, 9.1302, 13.662, 11.854]"
   ]
  },
  {
   "cell_type": "code",
   "execution_count": 2,
   "metadata": {
    "ExecuteTime": {
     "end_time": "2024-08-31T13:31:08.104391Z",
     "start_time": "2024-08-31T13:31:08.021026Z"
    },
    "colab": {
     "base_uri": "https://localhost:8080/"
    },
    "id": "rWa5QtzP-VQx",
    "outputId": "7336b5d4-5e0a-4e17-f9d9-d001dea30b0d"
   },
   "outputs": [
    {
     "name": "stdout",
     "output_type": "stream",
     "text": [
      "Iteration: 0, m: 0.7316663512, b: 0.10311225, J: 15.684545838430298\n",
      "Iteration: 1, m: 1.100941716819294, b: 0.15482601463315543, J: 5.224366206500796\n",
      "Iteration: 2, m: 1.287339230914015, b: 0.18060200240727128, J: 2.560504060171378\n",
      "Iteration: 3, m: 1.3814488243917513, b: 0.19328876523150096, J: 1.8820826037771419\n",
      "Iteration: 4, m: 1.4289860134191454, b: 0.1993702265946761, J: 1.7092812466388776\n"
     ]
    }
   ],
   "source": [
    "import numpy as np\n",
    "# initialize parameters\n",
    "b = 0\n",
    "m = 0\n",
    "\n",
    "# set learning rate\n",
    "learning_rate = 0.01\n",
    "\n",
    "# set number of iterations\n",
    "num_iterations = 5\n",
    "\n",
    "# define dataset\n",
    "x = np.array([6.4862, 5.5277, 8.5186, 7.0032])\n",
    "y = np.array([6.5987, 9.1302, 13.662, 11.854])\n",
    "\n",
    "# perform gradient descent\n",
    "for i in range(num_iterations):\n",
    "    y_pred = m*x + b\n",
    "    D_m = (-1/len(x)) * sum(x * (y - y_pred))\n",
    "    D_b = (-1/len(x)) * sum(y - y_pred)\n",
    "    m = m - learning_rate * D_m\n",
    "    b = b - learning_rate * D_b\n",
    "    J = 0.5/len(x)*sum(np.power(m*x + b - y, 2))\n",
    "    print(\"Iteration: {}, m: {}, b: {}, J: {}\".format(i, m, b, J))"
   ]
  },
  {
   "cell_type": "code",
   "execution_count": 3,
   "metadata": {
    "ExecuteTime": {
     "end_time": "2024-08-31T13:31:11.174949Z",
     "start_time": "2024-08-31T13:31:08.761984Z"
    },
    "colab": {
     "base_uri": "https://localhost:8080/",
     "height": 1000
    },
    "id": "PR0Q3IjkAx2l",
    "outputId": "6484795c-344b-48c1-8d61-631fc9d7b263"
   },
   "outputs": [
    {
     "name": "stdout",
     "output_type": "stream",
     "text": [
      "mean squared error:  0.1137413769325341\n",
      "R2 score:  0.8565656779573378\n"
     ]
    },
    {
     "data": {
      "image/png": "[encoded data removed]",
      "text/plain": [
       "<Figure size 640x480 with 1 Axes>"
      ]
     },
     "metadata": {},
     "output_type": "display_data"
    }
   ],
   "source": [
    "import numpy as np\n",
    "import matplotlib.pyplot as plt\n",
    "from sklearn.metrics import mean_squared_error, r2_score\n",
    "\n",
    "class LinearRegressionUsingGD:\n",
    "    \"\"\"Linear Regression Using Gradient Descent.\n",
    "    Parameters\n",
    "    ----------\n",
    "    eta : float\n",
    "        Learning rate\n",
    "    n_iterations : int\n",
    "        No of passes over the training set\n",
    "    Attributes\n",
    "    ----------\n",
    "    w_ : weights/ after fitting the model\n",
    "    bias_ : bias / after fitting the model\n",
    "    cost_ : total error of the model after each iteration\n",
    "    \"\"\"\n",
    "\n",
    "    def __init__(self, eta=0.05, n_iterations=10000):\n",
    "        self.eta = eta\n",
    "        self.n_iterations = n_iterations\n",
    "\n",
    "    def fit(self, x, y):\n",
    "        \"\"\"Fit the training data\n",
    "        Parameters\n",
    "        ----------\n",
    "        x : array-like, shape = [n_samples, n_features]\n",
    "            Training samples\n",
    "        y : array-like, shape = [n_samples, n_target_values]\n",
    "            Target values\n",
    "        Returns\n",
    "        -------\n",
    "        self : object\n",
    "        \"\"\"\n",
    "\n",
    "        self.cost_ = []\n",
    "        self.w_ = np.zeros((x.shape[1], 1))\n",
    "        self.bias_ = np.zeros((1, 1))\n",
    "        m = x.shape[0]\n",
    "\n",
    "        for _ in range(self.n_iterations):\n",
    "            y_pred = np.dot(x, self.w_) + self.bias_\n",
    "            residuals = y_pred - y\n",
    "            gradient_vector_weight = np.dot(x.T, residuals)\n",
    "            gradient_vector_bias = np.sum(residuals) \n",
    "            self.w_ -= (self.eta / m) * gradient_vector_weight\n",
    "            self.bias_ -= (self.eta / m) * gradient_vector_bias\n",
    "            cost = np.sum((residuals ** 2)) / (2 * m)\n",
    "            self.cost_.append(cost)\n",
    "        return self\n",
    "\n",
    "    def predict(self, x):\n",
    "        \"\"\" Predicts the value after the model has been trained.\n",
    "        Parameters\n",
    "        ----------\n",
    "        x : array-like, shape = [n_samples, n_features]\n",
    "            Test samples\n",
    "        Returns\n",
    "        -------\n",
    "        Predicted value\n",
    "        \"\"\"\n",
    "        return np.dot(x, self.w_) + self.bias_\n",
    "    \n",
    "    \n",
    "def run():\n",
    "    # generate random data-set\n",
    "    np.random.seed(0)\n",
    "    x = np.random.rand(100, 1)\n",
    "    y = 2 + 3 * x + np.random.rand(100, 1)\n",
    "    \n",
    "    # Model Initialization\n",
    "    model = LinearRegressionUsingGD(0.02,500)\n",
    "    # Fit the data (train the model)\n",
    "    model.fit(x, y)\n",
    "    #model = LinearRegression().fit(x, y)\n",
    "    \n",
    "    # Predict\n",
    "    y_pred = model.predict(x)\n",
    "    #print('predicted response:', y_pred, sep='\\n')\n",
    "    \n",
    "    \n",
    "    # model evaluation\n",
    "    rmse = mean_squared_error(y, y_pred)\n",
    "    r2 = r2_score(y, y_pred)\n",
    "    print('mean squared error: ', rmse)\n",
    "    print('R2 score: ', r2)\n",
    "    \n",
    "    # plot\n",
    "    plt.scatter(x,y,s=10)\n",
    "    plt.xlabel('x')\n",
    "    plt.ylabel('y')\n",
    "    plt.plot(x, y_pred, color='r')\n",
    "    plt.show()\n",
    "    \n",
    "    \n",
    "if __name__ == '__main__':\n",
    "    model = LinearRegressionUsingGD()\n",
    "    run()"
   ]
  }
 ],
 "metadata": {
  "colab": {
   "provenance": []
  },
  "kernelspec": {
   "display_name": "Python 3 (ipykernel)",
   "language": "python",
   "name": "python3"
  },
  "language_info": {
   "codemirror_mode": {
    "name": "ipython",
    "version": 3
   },
   "file_extension": ".py",
   "mimetype": "text/x-python",
   "name": "python",
   "nbconvert_exporter": "python",
   "pygments_lexer": "ipython3",
   "version": "3.12.4"
  },
  "vscode": {
   "interpreter": {
    "hash": "aee8b7b246df8f9039afb4144a1f6fd8d2ca17a180786b69acc140d282b71a49"
   }
  }
 },
 "nbformat": 4,
 "nbformat_minor": 4
}
